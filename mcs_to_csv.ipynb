{
 "cells": [
  {
   "cell_type": "code",
   "execution_count": 1,
   "id": "ca51ce31",
   "metadata": {},
   "outputs": [],
   "source": [
    "import os\n",
    "import numpy as np\n",
    "import math\n",
    "import pandas as pd\n",
    "import struct"
   ]
  },
  {
   "cell_type": "code",
   "execution_count": 2,
   "id": "2aa7bac8",
   "metadata": {},
   "outputs": [],
   "source": [
    "mcs_file_path = \"./mcs data/p200ns200.005\""
   ]
  },
  {
   "cell_type": "code",
   "execution_count": 3,
   "id": "1588b42b",
   "metadata": {},
   "outputs": [],
   "source": [
    "byte_array=[]\n",
    "with open(mcs_file_path, \"rb\") as f:\n",
    "    byte = f.read(1)\n",
    "    byte_array.append(byte)\n",
    "    while byte != b\"\":\n",
    "        # Do stuff with byte.\n",
    "        byte = f.read(1)\n",
    "        byte_array.append(byte)"
   ]
  },
  {
   "cell_type": "code",
   "execution_count": 4,
   "id": "dcf5fa3f",
   "metadata": {},
   "outputs": [],
   "source": [
    "ba = byte_array"
   ]
  },
  {
   "cell_type": "code",
   "execution_count": 5,
   "id": "4a5fd860",
   "metadata": {},
   "outputs": [],
   "source": [
    "def byte_array_to_string(byte_slice):\n",
    "    return \"\".join(list(map(lambda x: x.decode(), byte_slice)))"
   ]
  },
  {
   "cell_type": "code",
   "execution_count": 6,
   "id": "b8c566da",
   "metadata": {},
   "outputs": [],
   "source": [
    "def hex_array_to_int(byte_slice):\n",
    "    byte_slice.reverse()\n",
    "    return int(\"\".join(list(map(lambda x: x.hex(), byte_slice))), 16)"
   ]
  },
  {
   "cell_type": "code",
   "execution_count": 7,
   "id": "e331cbca",
   "metadata": {},
   "outputs": [],
   "source": [
    "def create_data(byte_slice):\n",
    "    int_array = np.empty(0)\n",
    "    while(len(byte_slice)!=0):\n",
    "        int_array = np.append(int_array,hex_array_to_int([byte_slice.pop(0),byte_slice.pop(0),byte_slice.pop(0),byte_slice.pop(0)]))\n",
    "    return int_array"
   ]
  },
  {
   "cell_type": "code",
   "execution_count": 24,
   "id": "3ea6cbc3",
   "metadata": {},
   "outputs": [
    {
     "data": {
      "text/plain": [
       "65532"
      ]
     },
     "execution_count": 24,
     "metadata": {},
     "output_type": "execute_result"
    }
   ],
   "source": []
  },
  {
   "cell_type": "code",
   "execution_count": 34,
   "id": "fb97c04d",
   "metadata": {},
   "outputs": [
    {
     "data": {
      "text/plain": [
       "-4"
      ]
     },
     "execution_count": 34,
     "metadata": {},
     "output_type": "execute_result"
    }
   ],
   "source": []
  },
  {
   "cell_type": "code",
   "execution_count": 15,
   "id": "309df3db",
   "metadata": {},
   "outputs": [],
   "source": [
    "dwell_units_dict = {0:'µs', 1:'ms', 2:'sec', 3:'ns'}\n",
    "dwell_units_multiplier = {0:-6,1:-3,2:1,3:-9}\n",
    "dwell_time = struct.unpack('!f', bytes.fromhex(\"\".join(list(map(lambda x: x.hex(), list(reversed(ba[222:226])))))))[0]\n",
    "dwell_units = dwell_units_dict[int(ba[4].hex(),16)]\n",
    "dwell_time_in_sec = dwell_time*(10**(dwell_units_multiplier[int(ba[4].hex(),16)]))"
   ]
  },
  {
   "cell_type": "code",
   "execution_count": 43,
   "id": "025ee44a",
   "metadata": {},
   "outputs": [],
   "source": [
    "photon_counts = create_data(ba[256:1256])\n",
    "time = np.arange(0, len(photon_counts))*dwell_time_in_sec\n",
    "distance = time*(150000000) + (time[1]*150000000)"
   ]
  },
  {
   "cell_type": "code",
   "execution_count": 44,
   "id": "e8e4d517",
   "metadata": {},
   "outputs": [],
   "source": [
    "df = pd.DataFrame([time,distance,photon_counts],index=['time','distance','photon_counts']).T\n",
    "df.to_csv((mcs_file_path.split(\"/\")[-1])+'.csv')"
   ]
  },
  {
   "cell_type": "code",
   "execution_count": null,
   "id": "f26b164b",
   "metadata": {},
   "outputs": [],
   "source": []
  }
 ],
 "metadata": {
  "kernelspec": {
   "display_name": "Python 3 (ipykernel)",
   "language": "python",
   "name": "python3"
  },
  "language_info": {
   "codemirror_mode": {
    "name": "ipython",
    "version": 3
   },
   "file_extension": ".py",
   "mimetype": "text/x-python",
   "name": "python",
   "nbconvert_exporter": "python",
   "pygments_lexer": "ipython3",
   "version": "3.9.16"
  }
 },
 "nbformat": 4,
 "nbformat_minor": 5
}
